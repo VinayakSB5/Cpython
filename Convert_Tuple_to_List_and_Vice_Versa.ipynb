{
  "cells": [
    {
      "cell_type": "code",
      "source": [
        "# Vinayaksb\n",
        "tup = (1, 2, 3)\n",
        "lst = list(tup)\n",
        "print(\"List:\", lst)\n",
        "\n",
        "new_tup = tuple(lst)\n",
        "print(\"Tuple:\", new_tup)\n"
      ],
      "metadata": {
        "colab": {
          "base_uri": "https://localhost:8080/"
        },
        "id": "SHxRJpvjx-Nn",
        "outputId": "f155e932-93e9-493f-d01e-d3b2ec51921b"
      },
      "execution_count": 14,
      "outputs": [
        {
          "output_type": "stream",
          "name": "stdout",
          "text": [
            "List: [1, 2, 3]\n",
            "Tuple: (1, 2, 3)\n"
          ]
        }
      ]
    }
  ],
  "metadata": {
    "colab": {
      "provenance": [],
      "gpuType": "T4"
    },
    "kernelspec": {
      "display_name": "Python 3",
      "name": "python3"
    },
    "accelerator": "GPU"
  },
  "nbformat": 4,
  "nbformat_minor": 0
}