{
  "cells": [
    {
      "cell_type": "code",
      "source": [
        "# vinayaksb\n",
        "\n",
        "# 1. Creating a Set\n",
        "my_set = {1, 2, 3, 4, 5}\n",
        "print(my_set, \"       vinayaksb\")\n",
        "\n",
        "# 2. Adding Elements\n",
        "my_set.add(6)\n",
        "print(my_set, \"       vinayaksb\")\n",
        "\n",
        "# 3. Removing Elements\n",
        "my_set.remove(3)  # Removes element, raises error if not present\n",
        "print(my_set, \"       vinayaksb\")\n",
        "\n",
        "my_set.discard(10)  # Removes element if present, no error if absent\n",
        "print(my_set, \"       vinayaksb\")\n",
        "\n",
        "popped = my_set.pop()  # Removes and returns an arbitrary element\n",
        "print(\"Popped element:\", popped, \"       vinayaksb\")\n",
        "print(my_set, \"       vinayaksb\")\n",
        "\n",
        "# 4. Union of Sets\n",
        "set2 = {4, 5, 6, 7}\n",
        "union_set = my_set.union(set2)\n",
        "print(union_set, \"       vinayaksb\")\n",
        "\n",
        "# 5. Intersection of Sets\n",
        "intersection_set = my_set.intersection(set2)\n",
        "print(intersection_set, \"       vinayaksb\")\n",
        "\n",
        "# 6. Difference of Sets\n",
        "difference_set = my_set.difference(set2)\n",
        "print(difference_set, \"       vinayaksb\")\n",
        "\n",
        "# 7. Symmetric Difference of Sets\n",
        "sym_diff_set = my_set.symmetric_difference(set2)\n",
        "print(sym_diff_set, \"       vinayaksb\")\n",
        "\n",
        "# 8. Checking Subset and Superset\n",
        "print(my_set.issubset(set2), \"       vinayaksb\")   # True if my_set is a subset of set2\n",
        "print(my_set.issuperset(set2), \"       vinayaksb\")  # True if my_set is a superset of set2\n",
        "\n",
        "# 9. Copying a Set\n",
        "new_set = my_set.copy()\n",
        "print(new_set, \"       vinayaksb\")\n",
        "\n",
        "# 10. Clearing a Set\n",
        "my_set.clear()\n",
        "print(my_set, \"       vinayaksb\")\n"
      ],
      "metadata": {
        "colab": {
          "base_uri": "https://localhost:8080/"
        },
        "id": "7cVP-G_G8zWL",
        "outputId": "00ecc345-2038-4c93-b8ab-36df4937d14a"
      },
      "execution_count": 4,
      "outputs": [
        {
          "output_type": "stream",
          "name": "stdout",
          "text": [
            "{1, 2, 3, 4, 5}        vinayaksb\n",
            "{1, 2, 3, 4, 5, 6}        vinayaksb\n",
            "{1, 2, 4, 5, 6}        vinayaksb\n",
            "{1, 2, 4, 5, 6}        vinayaksb\n",
            "Popped element: 1        vinayaksb\n",
            "{2, 4, 5, 6}        vinayaksb\n",
            "{2, 4, 5, 6, 7}        vinayaksb\n",
            "{4, 5, 6}        vinayaksb\n",
            "{2}        vinayaksb\n",
            "{2, 7}        vinayaksb\n",
            "False        vinayaksb\n",
            "False        vinayaksb\n",
            "{2, 4, 5, 6}        vinayaksb\n",
            "set()        vinayaksb\n"
          ]
        }
      ]
    }
  ],
  "metadata": {
    "colab": {
      "provenance": []
    },
    "kernelspec": {
      "display_name": "Python 3",
      "name": "python3"
    }
  },
  "nbformat": 4,
  "nbformat_minor": 0
}