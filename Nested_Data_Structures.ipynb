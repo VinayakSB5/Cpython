{
  "cells": [
    {
      "cell_type": "code",
      "source": [
        "# Vinayaksb\n",
        "students = {\n",
        "    'John': [85, 90, 80],\n",
        "    'Emma': [78, 88, 84],\n",
        "    'Alex': [92, 76, 88]\n",
        "}\n",
        "print(\"Student Data:\", students)\n"
      ],
      "metadata": {
        "colab": {
          "base_uri": "https://localhost:8080/"
        },
        "id": "wp59DpCQ3Lsz",
        "outputId": "86868495-b6d9-4ad5-fd8e-671039e94975"
      },
      "execution_count": 33,
      "outputs": [
        {
          "output_type": "stream",
          "name": "stdout",
          "text": [
            "Student Data: {'John': [85, 90, 80], 'Emma': [78, 88, 84], 'Alex': [92, 76, 88]}\n"
          ]
        }
      ]
    }
  ],
  "metadata": {
    "colab": {
      "provenance": [],
      "gpuType": "T4"
    },
    "kernelspec": {
      "display_name": "Python 3",
      "name": "python3"
    },
    "accelerator": "GPU"
  },
  "nbformat": 4,
  "nbformat_minor": 0
}