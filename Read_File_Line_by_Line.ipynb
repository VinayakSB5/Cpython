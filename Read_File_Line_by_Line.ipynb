{
  "cells": [
    {
      "cell_type": "code",
      "source": [
        "\n",
        "with open(\"sample.txt\", \"r\") as file:\n",
        "    for line in file:\n",
        "        print(f\"Vinayak, line: {line.strip()}\")\n"
      ],
      "metadata": {
        "colab": {
          "base_uri": "https://localhost:8080/"
        },
        "collapsed": true,
        "outputId": "d7c41155-4a63-4f46-d06e-8410baeac828",
        "id": "Y5Tms3kiiB45"
      },
      "execution_count": 36,
      "outputs": [
        {
          "output_type": "stream",
          "name": "stdout",
          "text": [
            "Vinayak, line: sksthor is famous in the avengers moviethor is famous in the avengers moviethor is famous in the avengers movie\n"
          ]
        }
      ]
    }
  ],
  "metadata": {
    "colab": {
      "provenance": []
    },
    "kernelspec": {
      "display_name": "Python 3",
      "name": "python3"
    }
  },
  "nbformat": 4,
  "nbformat_minor": 0
}