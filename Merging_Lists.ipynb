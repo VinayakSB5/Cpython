{
  "cells": [
    {
      "cell_type": "code",
      "source": [
        "\n",
        "# Vinayaksb\n",
        "list1 = [1, 2, 3]\n",
        "list2 = [3, 4, 5]\n",
        "merged = list(set(list1 + list2))\n",
        "print(\"Merged List:\", merged)\n",
        "\n",
        "\n",
        "\n"
      ],
      "metadata": {
        "colab": {
          "base_uri": "https://localhost:8080/"
        },
        "id": "kjcDv77KtNgy",
        "outputId": "d478b874-b373-43f0-96c8-8b93edb7fa3a"
      },
      "execution_count": 11,
      "outputs": [
        {
          "output_type": "stream",
          "name": "stdout",
          "text": [
            "Merged List: [1, 2, 3, 4, 5]\n"
          ]
        }
      ]
    }
  ],
  "metadata": {
    "colab": {
      "provenance": [],
      "gpuType": "T4"
    },
    "kernelspec": {
      "display_name": "Python 3",
      "name": "python3"
    },
    "accelerator": "GPU"
  },
  "nbformat": 4,
  "nbformat_minor": 0
}