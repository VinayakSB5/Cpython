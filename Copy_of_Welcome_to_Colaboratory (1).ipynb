{
  "cells": [
    {
      "cell_type": "code",
      "source": [
        "#sum of two nor\n",
        "a = int(input(\"Enter first number: \"))\n",
        "b = int(input(\"Enter second number: \"))\n",
        "print(\"Sum:\", a + b)\n"
      ],
      "metadata": {
        "colab": {
          "base_uri": "https://localhost:8080/"
        },
        "id": "P8v9HfU-pw0B",
        "outputId": "2e72ca8a-fd8c-443f-8ee8-1f5ee5180bcf"
      },
      "execution_count": 3,
      "outputs": [
        {
          "output_type": "stream",
          "name": "stdout",
          "text": [
            "Enter first number: 5\n",
            "Enter second number: 65\n",
            "Sum: 70\n"
          ]
        }
      ]
    }
  ],
  "metadata": {
    "colab": {
      "provenance": []
    },
    "kernelspec": {
      "display_name": "Python 3",
      "name": "python3"
    }
  },
  "nbformat": 4,
  "nbformat_minor": 0
}