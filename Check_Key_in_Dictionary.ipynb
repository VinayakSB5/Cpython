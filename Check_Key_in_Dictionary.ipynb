{
  "cells": [
    {
      "cell_type": "code",
      "source": [
        "# Vinayaksb\n",
        "data = {'a': 1, 'b': 2, 'c': 3}\n",
        "key = 'b'\n",
        "if key in data:\n",
        "    print(f\"'{key}' exists in the dictionary\")\n",
        "else:\n",
        "    print(f\"'{key}' does not exist in the dictionary\")\n"
      ],
      "metadata": {
        "colab": {
          "base_uri": "https://localhost:8080/"
        },
        "id": "30sX0SHdyfNT",
        "outputId": "9f724f28-802d-45a5-853d-0085ed459c08"
      },
      "execution_count": 24,
      "outputs": [
        {
          "output_type": "stream",
          "name": "stdout",
          "text": [
            "'b' exists in the dictionary\n"
          ]
        }
      ]
    }
  ],
  "metadata": {
    "colab": {
      "provenance": [],
      "gpuType": "T4"
    },
    "kernelspec": {
      "display_name": "Python 3",
      "name": "python3"
    },
    "accelerator": "GPU"
  },
  "nbformat": 4,
  "nbformat_minor": 0
}