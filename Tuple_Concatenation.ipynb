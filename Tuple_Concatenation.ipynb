{
  "cells": [
    {
      "cell_type": "code",
      "source": [
        "# Vinayaksb\n",
        "tup1 = (1, 2)\n",
        "tup2 = (3, 4)\n",
        "result = tup1 + tup2\n",
        "print(\"Concatenated Tuple:\", result)\n"
      ],
      "metadata": {
        "id": "30sX0SHdyfNT",
        "outputId": "ad303b4e-537f-43b3-e12e-c81748dd20bb",
        "colab": {
          "base_uri": "https://localhost:8080/"
        }
      },
      "execution_count": 15,
      "outputs": [
        {
          "output_type": "stream",
          "name": "stdout",
          "text": [
            "Concatenated Tuple: (1, 2, 3, 4)\n"
          ]
        }
      ]
    }
  ],
  "metadata": {
    "colab": {
      "provenance": [],
      "gpuType": "T4"
    },
    "kernelspec": {
      "display_name": "Python 3",
      "name": "python3"
    },
    "accelerator": "GPU"
  },
  "nbformat": 4,
  "nbformat_minor": 0
}