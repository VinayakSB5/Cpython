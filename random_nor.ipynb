{
  "cells": [
    {
      "cell_type": "code",
      "source": [
        "import random\n",
        "print(\"Random number:\", random.randint(1, 100))"
      ],
      "metadata": {
        "colab": {
          "base_uri": "https://localhost:8080/"
        },
        "id": "jG3xV5QMrGB_",
        "outputId": "ad0968fd-6315-4a53-8355-f995fc035dcb"
      },
      "execution_count": 7,
      "outputs": [
        {
          "output_type": "stream",
          "name": "stdout",
          "text": [
            "Random number: 13\n"
          ]
        }
      ]
    }
  ],
  "metadata": {
    "colab": {
      "provenance": []
    },
    "kernelspec": {
      "display_name": "Python 3",
      "name": "python3"
    }
  },
  "nbformat": 4,
  "nbformat_minor": 0
}