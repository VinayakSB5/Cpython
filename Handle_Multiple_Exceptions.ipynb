{
  "cells": [
    {
      "cell_type": "code",
      "source": [
        "\n",
        "try:\n",
        "    num = int(input(\"Vinayak, enter a number: \"))\n",
        "    with open(\"missing.txt\", \"r\") as file:\n",
        "        content = file.read()\n",
        "except ValueError:\n",
        "    print(\"Vinayak, invalid input\")\n",
        "except FileNotFoundError:\n",
        "    print(\"Vinayak, file not found\")\n"
      ],
      "metadata": {
        "id": "PAXX1dAQj9JR"
      },
      "execution_count": null,
      "outputs": []
    }
  ],
  "metadata": {
    "colab": {
      "provenance": []
    },
    "kernelspec": {
      "display_name": "Python 3",
      "name": "python3"
    }
  },
  "nbformat": 4,
  "nbformat_minor": 0
}