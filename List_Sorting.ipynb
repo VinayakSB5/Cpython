{
  "cells": [
    {
      "cell_type": "code",
      "source": [
        "# Vinayaksb\n",
        "numbers = [5, 1, 4, 3, 2]\n",
        "numbers.sort()             # Ascending\n",
        "print(\"Ascending:\", numbers)\n",
        "numbers.sort(reverse=True) # Descending\n",
        "print(\"Descending:\", numbers)\n"
      ],
      "metadata": {
        "colab": {
          "base_uri": "https://localhost:8080/"
        },
        "id": "kjcDv77KtNgy",
        "outputId": "6c545106-d036-4e8a-85d7-add3cadf95a8"
      },
      "execution_count": 6,
      "outputs": [
        {
          "output_type": "stream",
          "name": "stdout",
          "text": [
            "Ascending: [1, 2, 3, 4, 5]\n",
            "Descending: [5, 4, 3, 2, 1]\n"
          ]
        }
      ]
    }
  ],
  "metadata": {
    "colab": {
      "provenance": [],
      "gpuType": "T4"
    },
    "kernelspec": {
      "display_name": "Python 3",
      "name": "python3"
    },
    "accelerator": "GPU"
  },
  "nbformat": 4,
  "nbformat_minor": 0
}