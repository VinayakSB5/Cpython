{
  "cells": [
    {
      "cell_type": "code",
      "source": [
        "class Remote:\n",
        "    def __init__(self):\n",
        "        self.__channel = 1\n",
        "\n",
        "    def set_channel(self, channel):\n",
        "        self.__channel = channel\n",
        "\n",
        "    def get_channel(self):\n",
        "        return self.__channel\n",
        "\n",
        "remote = Remote()\n",
        "remote.set_channel(5)\n",
        "print(f\"Current Channel: {remote.get_channel()}, Controlled by Vinayak\")\n"
      ],
      "metadata": {
        "colab": {
          "base_uri": "https://localhost:8080/"
        },
        "id": "oN8xL_2fCyqL",
        "outputId": "e0f99c02-5122-41f7-a9d1-082efed272a3"
      },
      "execution_count": 9,
      "outputs": [
        {
          "output_type": "stream",
          "name": "stdout",
          "text": [
            "Current Channel: 5, Controlled by Vinayak\n"
          ]
        }
      ]
    }
  ],
  "metadata": {
    "colab": {
      "provenance": []
    },
    "kernelspec": {
      "display_name": "Python 3",
      "name": "python3"
    }
  },
  "nbformat": 4,
  "nbformat_minor": 0
}