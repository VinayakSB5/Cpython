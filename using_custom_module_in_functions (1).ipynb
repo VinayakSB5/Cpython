{
  "cells": [
    {
      "cell_type": "code",
      "source": [
        "def greet(name):\n",
        "    print(f\"Hello, {name}!\")\n",
        "\n"
      ],
      "metadata": {
        "id": "_xYNDyG9mxhD"
      },
      "execution_count": 12,
      "outputs": []
    },
    {
      "cell_type": "code",
      "source": [
        "from vinayaksb import greet  #use this in .py\n",
        "\n",
        "print(\"vinayaksb\")\n",
        "name = input(\"Enter your name: \")\n",
        "greet(name)\n",
        "\n"
      ],
      "metadata": {
        "id": "Vx_e0C2XnS7W"
      },
      "execution_count": null,
      "outputs": []
    }
  ],
  "metadata": {
    "colab": {
      "provenance": []
    },
    "kernelspec": {
      "display_name": "Python 3",
      "name": "python3"
    }
  },
  "nbformat": 4,
  "nbformat_minor": 0
}