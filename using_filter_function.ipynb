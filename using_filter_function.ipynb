{
  "cells": [
    {
      "cell_type": "code",
      "source": [
        "print(\"vinayaksb\")\n",
        "nums = list(map(int, input(\"Enter numbers separated by space: \").split()))\n",
        "even_nums = list(filter(lambda x: x % 2 == 0, nums))\n",
        "print(\"Even Numbers:\", even_nums)\n"
      ],
      "metadata": {
        "colab": {
          "base_uri": "https://localhost:8080/"
        },
        "id": "hD6QSRswn_VI",
        "outputId": "83ff1d7a-e092-4f73-fe0f-5bab68518e22"
      },
      "execution_count": 15,
      "outputs": [
        {
          "output_type": "stream",
          "name": "stdout",
          "text": [
            "vinayaksb\n",
            "Enter numbers separated by space: 554 55 2\n",
            "Even Numbers: [554, 2]\n"
          ]
        }
      ]
    }
  ],
  "metadata": {
    "colab": {
      "provenance": []
    },
    "kernelspec": {
      "display_name": "Python 3",
      "name": "python3"
    }
  },
  "nbformat": 4,
  "nbformat_minor": 0
}