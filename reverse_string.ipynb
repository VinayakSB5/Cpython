{
  "cells": [
    {
      "cell_type": "code",
      "source": [
        "def reverse_string(s):\n",
        "    return s[::-1]\n",
        "\n",
        "print(\"vinayaksb\")\n",
        "s = input(\"Enter a string: \")\n",
        "print(\"Reversed String:\", reverse_string(s))\n"
      ],
      "metadata": {
        "id": "qMgdtR0tllNG"
      },
      "execution_count": null,
      "outputs": []
    }
  ],
  "metadata": {
    "colab": {
      "provenance": []
    },
    "kernelspec": {
      "display_name": "Python 3",
      "name": "python3"
    }
  },
  "nbformat": 4,
  "nbformat_minor": 0
}