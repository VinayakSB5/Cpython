{
  "cells": [
    {
      "cell_type": "code",
      "source": [
        "def sum_all(*args):\n",
        "    return sum(args)\n",
        "\n",
        "print(\"vinayaksb\")\n",
        "nums = list(map(int, input(\"Enter numbers separated by space: \").split()))\n",
        "print(\"Sum:\", sum_all(*nums))\n"
      ],
      "metadata": {
        "colab": {
          "base_uri": "https://localhost:8080/"
        },
        "id": "JPhsY8okl8SC",
        "outputId": "959c3cae-0495-4112-aa01-4fe9fedc39a9"
      },
      "execution_count": 9,
      "outputs": [
        {
          "output_type": "stream",
          "name": "stdout",
          "text": [
            "vinayaksb\n",
            "Enter numbers separated by space: 5 5 6 \n",
            "Sum: 16\n"
          ]
        }
      ]
    }
  ],
  "metadata": {
    "colab": {
      "provenance": []
    },
    "kernelspec": {
      "display_name": "Python 3",
      "name": "python3"
    }
  },
  "nbformat": 4,
  "nbformat_minor": 0
}