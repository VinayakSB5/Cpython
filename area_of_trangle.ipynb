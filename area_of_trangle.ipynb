{
  "cells": [
    {
      "cell_type": "code",
      "source": [
        "base = float(input(\"Enter base: \"))\n",
        "height = float(input(\"Enter height: \"))\n",
        "print(\"Area of triangle:\", 0.5 * base * height)"
      ],
      "metadata": {
        "id": "s2vdZl_cqbNz"
      },
      "execution_count": null,
      "outputs": []
    }
  ],
  "metadata": {
    "colab": {
      "provenance": []
    },
    "kernelspec": {
      "display_name": "Python 3",
      "name": "python3"
    }
  },
  "nbformat": 4,
  "nbformat_minor": 0
}