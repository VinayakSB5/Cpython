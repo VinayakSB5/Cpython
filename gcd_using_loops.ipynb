{
  "cells": [
    {
      "cell_type": "code",
      "source": [
        "a = int(input(\"Enter first number: \"))\n",
        "b = int(input(\"Enter second number: \"))\n",
        "\n",
        "while b:\n",
        "    a, b = b, a % b\n",
        "\n",
        "print(\"GCD is:\", a)\n"
      ],
      "metadata": {
        "id": "P19bFvrzwh6x",
        "colab": {
          "base_uri": "https://localhost:8080/"
        },
        "outputId": "0e03b319-0dd8-49e2-eabc-dce131639910"
      },
      "execution_count": 1,
      "outputs": [
        {
          "output_type": "stream",
          "name": "stdout",
          "text": [
            "Enter first number: 5\n",
            "Enter second number: 6\n",
            "GCD is: 1\n"
          ]
        }
      ]
    },
    {
      "cell_type": "markdown",
      "source": [],
      "metadata": {
        "id": "isALzUQfbDax"
      }
    },
    {
      "cell_type": "code",
      "source": [],
      "metadata": {
        "id": "3GW137yTwswb"
      },
      "execution_count": null,
      "outputs": []
    }
  ],
  "metadata": {
    "colab": {
      "provenance": []
    },
    "kernelspec": {
      "display_name": "Python 3",
      "name": "python3"
    }
  },
  "nbformat": 4,
  "nbformat_minor": 0
}