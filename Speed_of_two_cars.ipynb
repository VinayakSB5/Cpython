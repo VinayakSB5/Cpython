{
  "cells": [
    {
      "cell_type": "code",
      "source": [
        "class Vehicle:\n",
        "    def __init__(self, name, speed):\n",
        "        self.name = name\n",
        "        self.speed = speed\n",
        "\n",
        "    def display_info(self):\n",
        "        print(f\"{self.name} moves at {self.speed} km/hr\")\n",
        "\n",
        "class Car(Vehicle):\n",
        "    def __init__(self, name, speed, brand):\n",
        "        super().__init__(name, speed)\n",
        "        self.brand = brand\n",
        "\n",
        "    def display_car_info(self):\n",
        "        print(f\"{self.brand} {self.name} at {self.speed} km/hr\")\n",
        "\n",
        "class VinayakCar(Car):\n",
        "    def special_feature(self):\n",
        "        print(f\"{self.name} designed by Vinayak\")\n",
        "\n",
        "my_car = VinayakCar(\"Sedan\", 150, \"Toyota\")\n",
        "my_car.display_info()\n",
        "my_car.display_car_info()\n",
        "my_car.special_feature()\n"
      ],
      "metadata": {
        "colab": {
          "base_uri": "https://localhost:8080/"
        },
        "id": "leWvIW_kde-k",
        "outputId": "8ee45404-4edb-4451-ccdf-7b5e30178f38"
      },
      "execution_count": 11,
      "outputs": [
        {
          "output_type": "stream",
          "name": "stdout",
          "text": [
            "Sedan moves at 150 km/hr\n",
            "Toyota Sedan at 150 km/hr\n",
            "Sedan designed by Vinayak\n"
          ]
        }
      ]
    }
  ],
  "metadata": {
    "colab": {
      "provenance": [],
      "gpuType": "V28"
    },
    "kernelspec": {
      "display_name": "Python 3",
      "name": "python3"
    },
    "accelerator": "TPU"
  },
  "nbformat": 4,
  "nbformat_minor": 0
}