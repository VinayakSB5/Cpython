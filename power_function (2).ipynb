{
  "cells": [
    {
      "cell_type": "code",
      "source": [
        "def power(base, exp):\n",
        "    if exp == 0:\n",
        "        return 1\n",
        "    return base * power(base, exp - 1)\n",
        "\n",
        "print(\"vinayaksb\")\n",
        "base = int(input(\"Enter base: \"))\n",
        "exp = int(input(\"Enter exponent: \"))\n",
        "print(\"Result:\", power(base, exp))\n",
        "\n"
      ],
      "metadata": {
        "colab": {
          "base_uri": "https://localhost:8080/"
        },
        "id": "w_CM74wukpem",
        "outputId": "46320544-e288-48f7-dd23-b87d3711c252"
      },
      "execution_count": 2,
      "outputs": [
        {
          "output_type": "stream",
          "name": "stdout",
          "text": [
            "vinayaksb\n",
            "Enter base: 6\n",
            "Enter exponent: 5\n",
            "Result: 7776\n"
          ]
        }
      ]
    }
  ],
  "metadata": {
    "colab": {
      "provenance": []
    },
    "kernelspec": {
      "display_name": "Python 3",
      "name": "python3"
    }
  },
  "nbformat": 4,
  "nbformat_minor": 0
}