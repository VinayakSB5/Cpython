{
  "cells": [
    {
      "cell_type": "code",
      "source": [
        "\n",
        "with open(\"sample.txt\", \"r\") as file:\n",
        "    words = file.read().split()\n",
        "    print(f\"Vinayak, number of words: {len(words)}\")"
      ],
      "metadata": {
        "colab": {
          "base_uri": "https://localhost:8080/"
        },
        "collapsed": true,
        "outputId": "6300bb0a-6781-4d5b-e377-873f96dcd745",
        "id": "Y5Tms3kiiB45"
      },
      "execution_count": 33,
      "outputs": [
        {
          "output_type": "stream",
          "name": "stdout",
          "text": [
            "Vinayak, number of words: 19\n"
          ]
        }
      ]
    }
  ],
  "metadata": {
    "colab": {
      "provenance": []
    },
    "kernelspec": {
      "display_name": "Python 3",
      "name": "python3"
    }
  },
  "nbformat": 4,
  "nbformat_minor": 0
}