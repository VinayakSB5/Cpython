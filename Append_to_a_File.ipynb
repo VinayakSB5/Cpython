{
  "cells": [
    {
      "cell_type": "code",
      "source": [
        "\n",
        "text = input(\"Vinayak, enter text to append: \")\n",
        "with open(\"sample.txt\", \"a\") as file:\n",
        "    file.write(\"\\n\" + text)\n",
        "print(\"Vinayak, text appended to file\")"
      ],
      "metadata": {
        "collapsed": true,
        "id": "Y5Tms3kiiB45"
      },
      "execution_count": null,
      "outputs": []
    }
  ],
  "metadata": {
    "colab": {
      "provenance": []
    },
    "kernelspec": {
      "display_name": "Python 3",
      "name": "python3"
    }
  },
  "nbformat": 4,
  "nbformat_minor": 0
}