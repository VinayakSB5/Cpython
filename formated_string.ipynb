{
  "cells": [
    {
      "cell_type": "code",
      "source": [
        "a = 5\n",
        "b = 3\n",
        "c = a + b\n",
        "\n",
        "print(f\"The sum of {a} and {b} is {c}.\")\n"
      ],
      "metadata": {
        "id": "4sc7AN5fIDfR"
      },
      "execution_count": null,
      "outputs": []
    }
  ],
  "metadata": {
    "colab": {
      "provenance": []
    },
    "kernelspec": {
      "display_name": "Python 3",
      "name": "python3"
    }
  },
  "nbformat": 4,
  "nbformat_minor": 0
}