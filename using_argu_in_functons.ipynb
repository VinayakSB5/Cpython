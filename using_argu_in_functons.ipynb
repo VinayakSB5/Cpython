{
  "cells": [
    {
      "cell_type": "code",
      "source": [
        "def sum_all(*args):\n",
        "    return sum(args)\n",
        "\n",
        "print(\"vinayaksb\")\n",
        "nums = list(map(int, input(\"Enter numbers separated by space: \").split()))\n",
        "print(\"Sum:\", sum_all(*nums))\n"
      ],
      "metadata": {
        "colab": {
          "base_uri": "https://localhost:8080/"
        },
        "id": "JPhsY8okl8SC",
        "outputId": "547b97c6-a38c-4c45-a77d-e0e8e54965b4"
      },
      "execution_count": 6,
      "outputs": [
        {
          "output_type": "stream",
          "name": "stdout",
          "text": [
            "vinayaksb\n",
            "Enter numbers separated by space: 5 5 5 \n",
            "Sum: 15\n"
          ]
        }
      ]
    }
  ],
  "metadata": {
    "colab": {
      "provenance": []
    },
    "kernelspec": {
      "display_name": "Python 3",
      "name": "python3"
    }
  },
  "nbformat": 4,
  "nbformat_minor": 0
}