{
  "cells": [
    {
      "cell_type": "code",
      "source": [
        "\n",
        "import os\n",
        "\n",
        "if os.path.exists(\"sample.txt\"):\n",
        "    print(\"Vinayak, file exists\")\n",
        "else:\n",
        "    print(\"Vinayak, file does not exist\")"
      ],
      "metadata": {
        "id": "PAXX1dAQj9JR",
        "outputId": "b32dbe5a-d8ad-43ff-9147-89e2bb457d3a",
        "colab": {
          "base_uri": "https://localhost:8080/"
        }
      },
      "execution_count": 37,
      "outputs": [
        {
          "output_type": "stream",
          "name": "stdout",
          "text": [
            "Vinayak, file exists\n"
          ]
        }
      ]
    }
  ],
  "metadata": {
    "colab": {
      "provenance": []
    },
    "kernelspec": {
      "display_name": "Python 3",
      "name": "python3"
    }
  },
  "nbformat": 4,
  "nbformat_minor": 0
}