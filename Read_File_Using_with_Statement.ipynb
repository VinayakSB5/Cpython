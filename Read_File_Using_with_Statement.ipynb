{
  "cells": [
    {
      "cell_type": "code",
      "source": [
        "with open(\"/path/to/your/data.csv\", \"r\") as file: # Replace with the actual path\n",
        "       content = file.read()\n",
        "       print(f\"Vinayak, file content:\\n{content}\")"
      ],
      "metadata": {
        "id": "DwKt8_0Mhq0i"
      },
      "execution_count": null,
      "outputs": []
    }
  ],
  "metadata": {
    "colab": {
      "provenance": []
    },
    "kernelspec": {
      "display_name": "Python 3",
      "name": "python3"
    }
  },
  "nbformat": 4,
  "nbformat_minor": 0
}