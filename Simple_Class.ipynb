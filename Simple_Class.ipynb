{
  "cells": [
    {
      "cell_type": "code",
      "source": [
        "class Fan:\n",
        "    def __init__(self):\n",
        "        self.brand = \"Bajaj\"\n",
        "        self.speed = 3\n",
        "\n",
        "    def display(self):\n",
        "        print(f\"Fan Brand: {self.brand}, Speed: {self.speed}, Created by Vinayak\")\n",
        "\n",
        "fan = Fan()\n",
        "fan.display()\n"
      ],
      "metadata": {
        "colab": {
          "base_uri": "https://localhost:8080/"
        },
        "id": "oN8xL_2fCyqL",
        "outputId": "68aa048e-5b89-4351-bb67-af0955f62f86"
      },
      "execution_count": 6,
      "outputs": [
        {
          "output_type": "stream",
          "name": "stdout",
          "text": [
            "Fan Brand: Bajaj, Speed: 3, Created by Vinayak\n"
          ]
        }
      ]
    }
  ],
  "metadata": {
    "colab": {
      "provenance": []
    },
    "kernelspec": {
      "display_name": "Python 3",
      "name": "python3"
    }
  },
  "nbformat": 4,
  "nbformat_minor": 0
}