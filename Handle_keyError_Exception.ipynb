{
  "cells": [
    {
      "cell_type": "code",
      "source": [
        "\n",
        "try:\n",
        "    my_dict = {\"name\": \"Vinayak\", \"age\": 25}\n",
        "    print(my_dict[\"city\"])\n",
        "except KeyError:\n",
        "    print(\"Vinayak, Key not found!\")"
      ],
      "metadata": {
        "colab": {
          "base_uri": "https://localhost:8080/"
        },
        "id": "wu_9Nj8Jg4j2",
        "outputId": "e0196403-f1af-4854-cc6c-a61eeebcbd66"
      },
      "execution_count": 20,
      "outputs": [
        {
          "output_type": "stream",
          "name": "stdout",
          "text": [
            "Vinayak, Key not found!\n"
          ]
        }
      ]
    }
  ],
  "metadata": {
    "colab": {
      "provenance": []
    },
    "kernelspec": {
      "display_name": "Python 3",
      "name": "python3"
    }
  },
  "nbformat": 4,
  "nbformat_minor": 0
}