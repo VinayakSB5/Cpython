{
  "cells": [
    {
      "cell_type": "code",
      "source": [
        "\n",
        "try:\n",
        "    a = int(input(\"Vinayak, enter numerator: \"))\n",
        "    b = int(input(\"Vinayak, enter denominator: \"))\n",
        "    result = a / b\n",
        "    print(f\"Result: {result}\")\n",
        "except ZeroDivisionError:\n",
        "    print(\"Vinayak, cannot divide by zero\")"
      ],
      "metadata": {
        "id": "PAXX1dAQj9JR"
      },
      "execution_count": null,
      "outputs": []
    }
  ],
  "metadata": {
    "colab": {
      "provenance": []
    },
    "kernelspec": {
      "display_name": "Python 3",
      "name": "python3"
    }
  },
  "nbformat": 4,
  "nbformat_minor": 0
}