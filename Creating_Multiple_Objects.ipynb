{
  "cells": [
    {
      "cell_type": "code",
      "source": [
        "class Game:\n",
        "    def __init__(self, name, genre):\n",
        "        self.name = name\n",
        "        self.genre = genre\n",
        "\n",
        "    def display(self):\n",
        "        print(f\"Game: {self.name}, Genre: {self.genre}, Created by Vinayak\")\n",
        "\n",
        "game1 = Game(\"BGMI\", \"Battle Royale\")\n",
        "game2 = Game(\"FIFA\", \"Sports\")\n",
        "\n",
        "game1.display()\n",
        "game2.display()\n"
      ],
      "metadata": {
        "colab": {
          "base_uri": "https://localhost:8080/"
        },
        "id": "oN8xL_2fCyqL",
        "outputId": "618514b2-8115-4818-cac6-e0d545c47251"
      },
      "execution_count": 7,
      "outputs": [
        {
          "output_type": "stream",
          "name": "stdout",
          "text": [
            "Game: BGMI, Genre: Battle Royale, Created by Vinayak\n",
            "Game: FIFA, Genre: Sports, Created by Vinayak\n"
          ]
        }
      ]
    }
  ],
  "metadata": {
    "colab": {
      "provenance": []
    },
    "kernelspec": {
      "display_name": "Python 3",
      "name": "python3"
    }
  },
  "nbformat": 4,
  "nbformat_minor": 0
}