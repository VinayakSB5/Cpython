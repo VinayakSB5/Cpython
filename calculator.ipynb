{
  "cells": [
    {
      "cell_type": "code",
      "source": [
        "def calculator(a, b, op):\n",
        "    if op == '+':\n",
        "        return a + b\n",
        "    elif op == '-':\n",
        "        return a - b\n",
        "    elif op == '*':\n",
        "        return a * b\n",
        "    elif op == '/':\n",
        "        return a / b if b != 0 else \"Cannot divide by zero\"\n",
        "    else:\n",
        "        return \"Invalid operator\"\n",
        "\n",
        "print(\"vinayaksb\")\n",
        "a = int(input(\"Enter first number: \"))\n",
        "b = int(input(\"Enter second number: \"))\n",
        "op = input(\"Enter operator (+, -, *, /): \")\n",
        "print(\"Result:\", calculator(a, b, op))\n",
        "\n"
      ],
      "metadata": {
        "colab": {
          "base_uri": "https://localhost:8080/"
        },
        "id": "w_CM74wukpem",
        "outputId": "8018c552-e25f-4e55-b3d5-34899a82df88"
      },
      "execution_count": 3,
      "outputs": [
        {
          "output_type": "stream",
          "name": "stdout",
          "text": [
            "vinayaksb\n",
            "Enter first number: 5\n",
            "Enter second number: 5\n",
            "Enter operator (+, -, *, /): /\n",
            "Result: 1.0\n"
          ]
        }
      ]
    }
  ],
  "metadata": {
    "colab": {
      "provenance": []
    },
    "kernelspec": {
      "display_name": "Python 3",
      "name": "python3"
    }
  },
  "nbformat": 4,
  "nbformat_minor": 0
}