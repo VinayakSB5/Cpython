{
  "cells": [
    {
      "cell_type": "code",
      "source": [
        "c = float(input(\"Enter Celsius: \"))\n",
        "print(\"Fahrenheit:\", (c * 9/5) + 32)"
      ],
      "metadata": {
        "colab": {
          "base_uri": "https://localhost:8080/"
        },
        "id": "jG3xV5QMrGB_",
        "outputId": "bb1540a3-679e-4606-a09d-e73259b05df0"
      },
      "execution_count": 8,
      "outputs": [
        {
          "output_type": "stream",
          "name": "stdout",
          "text": [
            "Enter Celsius: 63\n",
            "Fahrenheit: 145.4\n"
          ]
        }
      ]
    }
  ],
  "metadata": {
    "colab": {
      "provenance": []
    },
    "kernelspec": {
      "display_name": "Python 3",
      "name": "python3"
    }
  },
  "nbformat": 4,
  "nbformat_minor": 0
}