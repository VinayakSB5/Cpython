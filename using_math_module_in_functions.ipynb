{
  "cells": [
    {
      "cell_type": "code",
      "source": [
        "import math\n",
        "\n",
        "print(\"vinayaksb\")\n",
        "num = float(input(\"Enter a number: \"))\n",
        "print(\"Square root:\", math.sqrt(num))\n",
        "print(\"Factorial:\", math.factorial(int(num)))\n"
      ],
      "metadata": {
        "colab": {
          "base_uri": "https://localhost:8080/"
        },
        "id": "_xYNDyG9mxhD",
        "outputId": "a42dda28-382c-4a11-93ab-8f74bf63219a"
      },
      "execution_count": 10,
      "outputs": [
        {
          "output_type": "stream",
          "name": "stdout",
          "text": [
            "vinayaksb\n",
            "Enter a number: 5\n",
            "Square root: 2.23606797749979\n",
            "Factorial: 120\n"
          ]
        }
      ]
    }
  ],
  "metadata": {
    "colab": {
      "provenance": []
    },
    "kernelspec": {
      "display_name": "Python 3",
      "name": "python3"
    }
  },
  "nbformat": 4,
  "nbformat_minor": 0
}