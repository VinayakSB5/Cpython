{
  "cells": [
    {
      "cell_type": "code",
      "source": [
        "import math\n",
        "a = float(input(\"Enter a: \"))\n",
        "b = float(input(\"Enter b: \"))\n",
        "c = float(input(\"Enter c: \"))\n",
        "\n",
        "d = b**2 - 4*a*c\n",
        "if d >= 0:\n",
        "    root1 = (-b + math.sqrt(d)) / (2*a)\n",
        "    root2 = (-b - math.sqrt(d)) / (2*a)\n",
        "    print(\"Roots:\", root1, root2)\n",
        "else:\n",
        "    print(\"No real roots\")"
      ],
      "metadata": {
        "id": "dUwCKWBjqlvA"
      },
      "execution_count": null,
      "outputs": []
    }
  ],
  "metadata": {
    "colab": {
      "provenance": []
    },
    "kernelspec": {
      "display_name": "Python 3",
      "name": "python3"
    }
  },
  "nbformat": 4,
  "nbformat_minor": 0
}