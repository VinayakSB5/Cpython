{
  "cells": [
    {
      "cell_type": "code",
      "source": [
        "\n",
        "with open(\"sample.txt\", \"r\") as file:\n",
        "    chars = file.read()\n",
        "    print(f\"Vinayak, number of characters: {len(chars)}\")"
      ],
      "metadata": {
        "colab": {
          "base_uri": "https://localhost:8080/"
        },
        "collapsed": true,
        "outputId": "c06c753f-b421-49e4-a3c3-8f9ed0805359",
        "id": "Y5Tms3kiiB45"
      },
      "execution_count": 34,
      "outputs": [
        {
          "output_type": "stream",
          "name": "stdout",
          "text": [
            "Vinayak, number of characters: 111\n"
          ]
        }
      ]
    }
  ],
  "metadata": {
    "colab": {
      "provenance": []
    },
    "kernelspec": {
      "display_name": "Python 3",
      "name": "python3"
    }
  },
  "nbformat": 4,
  "nbformat_minor": 0
}