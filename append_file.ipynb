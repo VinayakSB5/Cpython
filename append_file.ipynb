{
  "cells": [
    {
      "cell_type": "code",
      "source": [
        "thor=open(\"/content/sample.txt\",'a')\n",
        "thor.write(\"thor is famous in the avengers movie\")\n",
        "thor.close()\n",
        "thor=open(\"/content/sample.txt\",'r')\n",
        "print(thor.read())\n",
        "thor.close()\n"
      ],
      "metadata": {
        "colab": {
          "base_uri": "https://localhost:8080/"
        },
        "id": "gJ6H8rtIKOBB",
        "outputId": "1d71ce23-993e-4c16-e6f2-c3838348a0d8"
      },
      "execution_count": 8,
      "outputs": [
        {
          "output_type": "stream",
          "name": "stdout",
          "text": [
            "sksthor is famous in the avengers moviethor is famous in the avengers moviethor is famous in the avengers movie\n"
          ]
        }
      ]
    },
    {
      "cell_type": "markdown",
      "source": [
        "the file is update with thor example\n"
      ],
      "metadata": {
        "id": "60OVDjJ-Lnhg"
      }
    }
  ],
  "metadata": {
    "colab": {
      "provenance": []
    },
    "kernelspec": {
      "display_name": "Python 3",
      "name": "python3"
    }
  },
  "nbformat": 4,
  "nbformat_minor": 0
}