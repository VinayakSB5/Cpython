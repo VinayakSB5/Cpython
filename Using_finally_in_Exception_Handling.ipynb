{
  "cells": [
    {
      "cell_type": "code",
      "source": [
        "\n",
        "try:\n",
        "    num = int(input(\"Vinayak, enter a number: \"))\n",
        "    result = 10 / num\n",
        "except ZeroDivisionError:\n",
        "    print(\"Vinayak, division by zero error\")\n",
        "finally:\n",
        "    print(\"Vinayak, this block will always execute\")"
      ],
      "metadata": {
        "id": "PAXX1dAQj9JR"
      },
      "execution_count": null,
      "outputs": []
    }
  ],
  "metadata": {
    "colab": {
      "provenance": []
    },
    "kernelspec": {
      "display_name": "Python 3",
      "name": "python3"
    }
  },
  "nbformat": 4,
  "nbformat_minor": 0
}