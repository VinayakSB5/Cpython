{
  "cells": [
    {
      "cell_type": "code",
      "source": [
        "# Vinayaksb\n",
        "numbers = (10, 20, 30, 40, 50)\n",
        "print(\"First:\", numbers[0])\n",
        "print(\"Last:\", numbers[-1])\n",
        "print(\"Middle:\", numbers[len(numbers) // 2])\n"
      ],
      "metadata": {
        "id": "SHxRJpvjx-Nn",
        "outputId": "b0a1e5cf-3f85-45eb-947c-f7b2485bfffc",
        "colab": {
          "base_uri": "https://localhost:8080/"
        }
      },
      "execution_count": 12,
      "outputs": [
        {
          "output_type": "stream",
          "name": "stdout",
          "text": [
            "First: 10\n",
            "Last: 50\n",
            "Middle: 30\n"
          ]
        }
      ]
    }
  ],
  "metadata": {
    "colab": {
      "provenance": [],
      "gpuType": "T4"
    },
    "kernelspec": {
      "display_name": "Python 3",
      "name": "python3"
    },
    "accelerator": "GPU"
  },
  "nbformat": 4,
  "nbformat_minor": 0
}