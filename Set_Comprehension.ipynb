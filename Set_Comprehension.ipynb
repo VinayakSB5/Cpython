{
  "cells": [
    {
      "cell_type": "code",
      "source": [
        "\n",
        "# Vinayaksb\n",
        "evens = {x for x in range(1, 11) if x % 2 == 0}\n",
        "print(\"Even Numbers:\", evens)\n"
      ],
      "metadata": {
        "colab": {
          "base_uri": "https://localhost:8080/"
        },
        "id": "wp59DpCQ3Lsz",
        "outputId": "14aec64d-c593-48fb-a4e9-5a6d2128a4e6"
      },
      "execution_count": 32,
      "outputs": [
        {
          "output_type": "stream",
          "name": "stdout",
          "text": [
            "Even Numbers: {2, 4, 6, 8, 10}\n"
          ]
        }
      ]
    }
  ],
  "metadata": {
    "colab": {
      "provenance": [],
      "gpuType": "T4"
    },
    "kernelspec": {
      "display_name": "Python 3",
      "name": "python3"
    },
    "accelerator": "GPU"
  },
  "nbformat": 4,
  "nbformat_minor": 0
}