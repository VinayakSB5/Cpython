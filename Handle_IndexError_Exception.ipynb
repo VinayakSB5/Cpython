{
  "cells": [
    {
      "cell_type": "code",
      "source": [
        "try:\n",
        "    my_list = [1, 2, 3]\n",
        "    print(my_list[5])  # This will cause an IndexError\n",
        "except IndexError:\n",
        "    print(\"Vinayak, Index out of range!\")\n",
        "\n",
        "    print(\"The list does not have an element at index 5.\")\n"
      ],
      "metadata": {
        "colab": {
          "base_uri": "https://localhost:8080/"
        },
        "id": "wu_9Nj8Jg4j2",
        "outputId": "f336b6e5-c914-4325-8262-4f77f0f8e9c4"
      },
      "execution_count": 19,
      "outputs": [
        {
          "output_type": "stream",
          "name": "stdout",
          "text": [
            "Vinayak, Index out of range!\n",
            "The list does not have an element at index 5.\n"
          ]
        }
      ]
    }
  ],
  "metadata": {
    "colab": {
      "provenance": []
    },
    "kernelspec": {
      "display_name": "Python 3",
      "name": "python3"
    }
  },
  "nbformat": 4,
  "nbformat_minor": 0
}