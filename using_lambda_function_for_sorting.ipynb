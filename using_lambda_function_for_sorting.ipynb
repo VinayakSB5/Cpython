{
  "cells": [
    {
      "cell_type": "code",
      "source": [
        "print(\"vinayaksb\")\n",
        "nums = list(map(int, input(\"Enter numbers separated by space: \").split()))\n",
        "sorted_nums = sorted(nums, key=lambda x: x)\n",
        "print(\"Sorted List:\", sorted_nums)\n"
      ],
      "metadata": {
        "colab": {
          "base_uri": "https://localhost:8080/"
        },
        "id": "Nmg2iB-Rn0th",
        "outputId": "92e31514-b0c0-488d-becd-396e399cd8f0"
      },
      "execution_count": 14,
      "outputs": [
        {
          "output_type": "stream",
          "name": "stdout",
          "text": [
            "vinayaksb\n",
            "Enter numbers separated by space:  5 2 4 2 5 2\n",
            "Sorted List: [2, 2, 2, 4, 5, 5]\n"
          ]
        }
      ]
    }
  ],
  "metadata": {
    "colab": {
      "provenance": []
    },
    "kernelspec": {
      "display_name": "Python 3",
      "name": "python3"
    }
  },
  "nbformat": 4,
  "nbformat_minor": 0
}