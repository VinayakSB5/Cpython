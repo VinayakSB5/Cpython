{
  "cells": [
    {
      "cell_type": "markdown",
      "source": [
        "class nobb:\n",
        "    def __init__(self, name, age):\n",
        "        self.name = name\n",
        "        self.age = age\n",
        "    \n",
        "    def display(self):\n",
        "        print(f\"Name: {self.name}, Age: {self.age}\")  \n",
        "person1=nobb(\"jinjig\", 25)\n",
        "person1.display()"
      ],
      "metadata": {
        "id": "27fNsRXf5qa-"
      }
    },
    {
      "cell_type": "code",
      "source": [],
      "metadata": {
        "id": "8-W1vWDd6oKx"
      },
      "execution_count": null,
      "outputs": []
    },
    {
      "cell_type": "code",
      "source": [
        "class Person:\n",
        "    def __init__(self, name, age):\n",
        "        self.name = name\n",
        "        self.age = age\n",
        "\n",
        "    def display(self):\n",
        "        print(f\"Name: {self.name}, Age: {self.age}\")\n",
        "\n",
        "\n",
        "p = Person(\"John\", 25)\n",
        "p.display()\n"
      ],
      "metadata": {
        "colab": {
          "base_uri": "https://localhost:8080/"
        },
        "id": "1Fk4Kjw10dOR",
        "outputId": "a46368a3-bed7-468f-cfb1-e8b929807855"
      },
      "execution_count": null,
      "outputs": [
        {
          "output_type": "stream",
          "name": "stdout",
          "text": [
            "Name: John, Age: 25\n"
          ]
        }
      ]
    },
    {
      "cell_type": "code",
      "source": [
        "class Person:\n",
        "    def set_data(self, name, age):\n",
        "        self.name = name\n",
        "        self.age = age\n",
        "\n",
        "    def display(self):\n",
        "        print(f\"Name: {self.name}, Age: {self.age}\")\n",
        "\n",
        "\n",
        "p = Person()\n",
        "p.set_data(\"John\", 25)\n",
        "p.display()\n"
      ],
      "metadata": {
        "colab": {
          "base_uri": "https://localhost:8080/"
        },
        "id": "Ns2TBhAR0wUF",
        "outputId": "f0563f77-0889-4d9f-d3a7-47b3710024e6"
      },
      "execution_count": null,
      "outputs": [
        {
          "output_type": "stream",
          "name": "stdout",
          "text": [
            "Name: John, Age: 25\n"
          ]
        }
      ]
    },
    {
      "cell_type": "code",
      "source": [
        "class qwe:\n",
        "    def __init__(self):\n",
        "      self.public=\"pop\"\n",
        "      self.__private=\"pop2\"\n",
        "      self._protected=\"pop3\"\n",
        "obj=qwe()\n",
        "print(obj.public)\n",
        "print(obj._protected)\n",
        "print(obj._qwe__private)"
      ],
      "metadata": {
        "colab": {
          "base_uri": "https://localhost:8080/"
        },
        "id": "A2PSpTq_DUO5",
        "outputId": "9cd5d430-aa79-45cb-80ee-ac3ed0c988db"
      },
      "execution_count": 14,
      "outputs": [
        {
          "output_type": "stream",
          "name": "stdout",
          "text": [
            "pop\n",
            "pop3\n",
            "pop2\n"
          ]
        }
      ]
    }
  ],
  "metadata": {
    "colab": {
      "provenance": []
    },
    "kernelspec": {
      "display_name": "Python 3",
      "name": "python3"
    }
  },
  "nbformat": 4,
  "nbformat_minor": 0
}