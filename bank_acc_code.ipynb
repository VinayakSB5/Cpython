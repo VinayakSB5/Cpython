{
  "cells": [
    {
      "cell_type": "code",
      "source": [
        "class BankAccount:\n",
        "    def __init__(self, name, balance=0):\n",
        "        self.name = name\n",
        "        self.balance = balance\n",
        "\n",
        "    def deposit(self, amount):\n",
        "        self.balance += amount\n",
        "        print(f\"{self.name} deposited: {amount}, Balance: {self.balance}\")\n",
        "\n",
        "    def withdraw(self, amount):\n",
        "        if amount <= self.balance:\n",
        "            self.balance -= amount\n",
        "            print(f\"{self.name} withdrew: {amount}, Balance: {self.balance}\")\n",
        "        else:\n",
        "            print(f\"{self.name}, insufficient balance\")\n",
        "\n",
        "# Create account for Vinayak\n",
        "acc = BankAccount(\"Vinayak\", 100)\n",
        "acc.deposit(50)\n",
        "acc.withdraw(30)\n",
        "acc.withdraw(200)\n"
      ],
      "metadata": {
        "colab": {
          "base_uri": "https://localhost:8080/"
        },
        "id": "TLto4sNUbeXM",
        "outputId": "9cd51af3-10e7-45ab-c74c-1594bfba62c1"
      },
      "execution_count": 4,
      "outputs": [
        {
          "output_type": "stream",
          "name": "stdout",
          "text": [
            "Vinayak deposited: 50, Balance: 150\n",
            "Vinayak withdrew: 30, Balance: 120\n",
            "Vinayak, insufficient balance\n"
          ]
        }
      ]
    }
  ],
  "metadata": {
    "colab": {
      "provenance": [],
      "gpuType": "V28"
    },
    "kernelspec": {
      "display_name": "Python 3",
      "name": "python3"
    },
    "accelerator": "TPU"
  },
  "nbformat": 4,
  "nbformat_minor": 0
}