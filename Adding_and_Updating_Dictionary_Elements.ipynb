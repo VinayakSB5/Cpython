{
  "cells": [
    {
      "cell_type": "code",
      "source": [
        "\n",
        "# Vinayaksb\n",
        "data = {'a': 1, 'b': 2}\n",
        "data['c'] = 3      # Add new element\n",
        "data['a'] = 10     # Update value of 'a'\n",
        "print(\"Updated Dictionary:\", data)\n",
        "\n"
      ],
      "metadata": {
        "colab": {
          "base_uri": "https://localhost:8080/"
        },
        "id": "30sX0SHdyfNT",
        "outputId": "e0ec0610-eb49-4f74-e79d-9f4459ba063c"
      },
      "execution_count": 19,
      "outputs": [
        {
          "output_type": "stream",
          "name": "stdout",
          "text": [
            "Updated Dictionary: {'a': 10, 'b': 2, 'c': 3}\n"
          ]
        }
      ]
    }
  ],
  "metadata": {
    "colab": {
      "provenance": [],
      "gpuType": "T4"
    },
    "kernelspec": {
      "display_name": "Python 3",
      "name": "python3"
    },
    "accelerator": "GPU"
  },
  "nbformat": 4,
  "nbformat_minor": 0
}