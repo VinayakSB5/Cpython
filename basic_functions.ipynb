{
  "cells": [
    {
      "cell_type": "code",
      "source": [
        "def greet():\n",
        "    print(\"Hello, Python!\")\n",
        "\n",
        "print(\"vinayaksb\")\n",
        "greet()\n"
      ],
      "metadata": {
        "colab": {
          "base_uri": "https://localhost:8080/"
        },
        "id": "hD6QSRswn_VI",
        "outputId": "30c3d3f4-194c-4df5-b77e-f47a7b92eb56"
      },
      "execution_count": 17,
      "outputs": [
        {
          "output_type": "stream",
          "name": "stdout",
          "text": [
            "vinayaksb\n",
            "Hello, Python!\n"
          ]
        }
      ]
    }
  ],
  "metadata": {
    "colab": {
      "provenance": []
    },
    "kernelspec": {
      "display_name": "Python 3",
      "name": "python3"
    }
  },
  "nbformat": 4,
  "nbformat_minor": 0
}