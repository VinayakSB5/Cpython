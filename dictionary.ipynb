{
  "cells": [
    {
      "cell_type": "code",
      "source": [
        "# vinayaksb\n",
        "\n",
        "# 1. Creating a Dictionary\n",
        "my_dict = {'a': 1, 'b': 2, 'c': 3}\n",
        "print(my_dict, \"       vinayaksb\")\n",
        "\n",
        "# 2. Accessing Values\n",
        "print(my_dict['a'], \"       vinayaksb\")  # Access by key\n",
        "print(my_dict.get('b'), \"       vinayaksb\")  # Get value by key\n",
        "\n",
        "# 3. Adding/Updating Values\n",
        "my_dict['d'] = 4\n",
        "print(my_dict, \"       vinayaksb\")\n",
        "\n",
        "my_dict['a'] = 10  # Update value\n",
        "print(my_dict, \"       vinayaksb\")\n",
        "\n",
        "# 4. Removing Elements\n",
        "my_dict.pop('b')  # Remove by key\n",
        "print(my_dict, \"       vinayaksb\")\n",
        "\n",
        "del my_dict['c']  # Delete by key\n",
        "print(my_dict, \"       vinayaksb\")\n",
        "\n",
        "# 5. Length of Dictionary\n",
        "print(len(my_dict), \"       vinayaksb\")\n",
        "\n",
        "# 6. Keys, Values, and Items\n",
        "print(my_dict.keys(), \"       vinayaksb\")  # Get all keys\n",
        "print(my_dict.values(), \"       vinayaksb\")  # Get all values\n",
        "print(my_dict.items(), \"       vinayaksb\")  # Get all key-value pairs\n",
        "\n",
        "# 7. Checking Membership\n",
        "print('a' in my_dict, \"       vinayaksb\")  # Check if key exists\n",
        "print('z' not in my_dict, \"       vinayaksb\")  # Check if key does not exist\n",
        "\n",
        "# 8. Copying a Dictionary\n",
        "new_dict = my_dict.copy()\n",
        "print(new_dict, \"       vinayaksb\")\n",
        "\n",
        "# 9. Merging Dictionaries\n",
        "my_dict.update({'e': 5, 'f': 6})\n",
        "print(my_dict, \"       vinayaksb\")\n",
        "\n",
        "# 10. Clearing a Dictionary\n",
        "my_dict.clear()\n",
        "print(my_dict, \"       vinayaksb\")\n"
      ],
      "metadata": {
        "colab": {
          "base_uri": "https://localhost:8080/"
        },
        "id": "Ad4zhS618f65",
        "outputId": "0b222c90-2c76-4472-d761-61831e4a64bf"
      },
      "execution_count": 3,
      "outputs": [
        {
          "output_type": "stream",
          "name": "stdout",
          "text": [
            "{'a': 1, 'b': 2, 'c': 3}        vinayaksb\n",
            "1        vinayaksb\n",
            "2        vinayaksb\n",
            "{'a': 1, 'b': 2, 'c': 3, 'd': 4}        vinayaksb\n",
            "{'a': 10, 'b': 2, 'c': 3, 'd': 4}        vinayaksb\n",
            "{'a': 10, 'c': 3, 'd': 4}        vinayaksb\n",
            "{'a': 10, 'd': 4}        vinayaksb\n",
            "2        vinayaksb\n",
            "dict_keys(['a', 'd'])        vinayaksb\n",
            "dict_values([10, 4])        vinayaksb\n",
            "dict_items([('a', 10), ('d', 4)])        vinayaksb\n",
            "True        vinayaksb\n",
            "True        vinayaksb\n",
            "{'a': 10, 'd': 4}        vinayaksb\n",
            "{'a': 10, 'd': 4, 'e': 5, 'f': 6}        vinayaksb\n",
            "{}        vinayaksb\n"
          ]
        }
      ]
    }
  ],
  "metadata": {
    "colab": {
      "provenance": []
    },
    "kernelspec": {
      "display_name": "Python 3",
      "name": "python3"
    }
  },
  "nbformat": 4,
  "nbformat_minor": 0
}