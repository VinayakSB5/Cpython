{
  "cells": [
    {
      "cell_type": "code",
      "source": [
        "\n",
        "\n",
        "text = input(\"Vinayak, enter text to write: \")\n",
        "with open(\"sample.txt\", \"w\") as file:\n",
        "    file.write(text)\n",
        "print(\"Vinayak, text written to file\")"
      ],
      "metadata": {
        "collapsed": true,
        "id": "Y5Tms3kiiB45"
      },
      "execution_count": null,
      "outputs": []
    }
  ],
  "metadata": {
    "colab": {
      "provenance": []
    },
    "kernelspec": {
      "display_name": "Python 3",
      "name": "python3"
    }
  },
  "nbformat": 4,
  "nbformat_minor": 0
}