{
  "cells": [
    {
      "cell_type": "code",
      "source": [
        "\n",
        "# Break example: stops at 5\n",
        "for i in range(10):\n",
        "    if i == 5:\n",
        "        break\n",
        "    print(i)\n",
        "\n",
        "# Continue example: skips 5\n",
        "for i in range(10):\n",
        "    if i == 5:\n",
        "        continue\n",
        "    print(i)\n"
      ],
      "metadata": {
        "id": "P19bFvrzwh6x",
        "colab": {
          "base_uri": "https://localhost:8080/"
        },
        "outputId": "0e03b319-0dd8-49e2-eabc-dce131639910"
      },
      "execution_count": 1,
      "outputs": [
        {
          "output_type": "stream",
          "name": "stdout",
          "text": [
            "Enter first number: 5\n",
            "Enter second number: 6\n",
            "GCD is: 1\n"
          ]
        }
      ]
    },
    {
      "cell_type": "markdown",
      "source": [],
      "metadata": {
        "id": "isALzUQfbDax"
      }
    },
    {
      "cell_type": "code",
      "source": [],
      "metadata": {
        "id": "3GW137yTwswb"
      },
      "execution_count": null,
      "outputs": []
    }
  ],
  "metadata": {
    "colab": {
      "provenance": []
    },
    "kernelspec": {
      "display_name": "Python 3",
      "name": "python3"
    }
  },
  "nbformat": 4,
  "nbformat_minor": 0
}