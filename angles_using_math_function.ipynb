{
  "cells": [
    {
      "cell_type": "code",
      "source": [
        "\n",
        "import math\n",
        "angle=float(input(\"Enter an angle in degree\"))\n",
        "radian=math.radians(angle)\n",
        "print(\"The sin angle:\",math.sin(radian))\n",
        "print(\"The cos angle:\",math.cos(radian))\n",
        "print(\"The tan angle:\",math.tan(radian))"
      ],
      "metadata": {
        "colab": {
          "base_uri": "https://localhost:8080/"
        },
        "id": "dvfrWcE_J0hV",
        "outputId": "6f076937-9c0f-41e4-f170-8431a86dabae"
      },
      "execution_count": 7,
      "outputs": [
        {
          "output_type": "stream",
          "name": "stdout",
          "text": [
            "Enter an angle in degree90\n",
            "The sin angle: 1.0\n",
            "The cos angle: 6.123233995736766e-17\n",
            "The tan angle: 1.633123935319537e+16\n"
          ]
        }
      ]
    }
  ],
  "metadata": {
    "colab": {
      "provenance": []
    },
    "kernelspec": {
      "display_name": "Python 3",
      "name": "python3"
    }
  },
  "nbformat": 4,
  "nbformat_minor": 0
}