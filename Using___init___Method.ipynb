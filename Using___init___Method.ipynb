{
  "cells": [
    {
      "cell_type": "code",
      "source": [
        "class TV:\n",
        "    def __init__(self, brand, size):\n",
        "        self.brand = brand\n",
        "        self.size = size\n",
        "\n",
        "    def display(self):\n",
        "        print(f\"TV Brand: {self.brand}, Size: {self.size} inches, Created by Vinayak\")\n",
        "\n",
        "tv = TV(\"Samsung\", 55)\n",
        "tv.display()\n"
      ],
      "metadata": {
        "colab": {
          "base_uri": "https://localhost:8080/"
        },
        "id": "GYleH4eQCXqI",
        "outputId": "6c71cad2-da47-4e9a-bddd-345850950b6e"
      },
      "execution_count": 5,
      "outputs": [
        {
          "output_type": "stream",
          "name": "stdout",
          "text": [
            "TV Brand: Samsung, Size: 55 inches, Created by Vinayak\n"
          ]
        }
      ]
    }
  ],
  "metadata": {
    "colab": {
      "provenance": []
    },
    "kernelspec": {
      "display_name": "Python 3",
      "name": "python3"
    }
  },
  "nbformat": 4,
  "nbformat_minor": 0
}