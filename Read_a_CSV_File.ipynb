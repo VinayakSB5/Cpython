{
  "cells": [
    {
      "cell_type": "code",
      "source": [
        "import csv\n",
        "import os\n",
        "\n",
        "# Get the current working directory\n",
        "current_directory = os.getcwd()\n",
        "print(f\"Current working directory: {current_directory}\")\n",
        "\n",
        "# Construct the full path to the CSV file\n",
        "file_path = os.path.join(current_directory, 'data.csv')\n",
        "\n",
        "# Check if the file exists\n",
        "if os.path.exists(file_path):\n",
        "    with open(file_path, mode='r') as file:\n",
        "        reader = csv.reader(file)\n",
        "        for row in reader:\n",
        "            print(row)\n",
        "\n",
        "        # Reset the file pointer to the beginning of the file using seek(0)\n",
        "        file.seek(0)\n",
        "        for row in reader:\n",
        "            print(row)\n",
        "else:\n",
        "    print(f\"Error: File not found at {file_path}\")"
      ],
      "metadata": {
        "id": "kDiaJlKngeYU",
        "outputId": "0faaa7d2-54c8-45e3-800c-ec93971f938f",
        "colab": {
          "base_uri": "https://localhost:8080/"
        }
      },
      "execution_count": 15,
      "outputs": [
        {
          "output_type": "stream",
          "name": "stdout",
          "text": [
            "Current working directory: /content\n",
            "Error: File not found at /content/data.csv\n"
          ]
        }
      ]
    },
    {
      "cell_type": "markdown",
      "source": [
        "the file is update with thor example\n"
      ],
      "metadata": {
        "id": "60OVDjJ-Lnhg"
      }
    }
  ],
  "metadata": {
    "colab": {
      "provenance": []
    },
    "kernelspec": {
      "display_name": "Python 3",
      "name": "python3"
    }
  },
  "nbformat": 4,
  "nbformat_minor": 0
}