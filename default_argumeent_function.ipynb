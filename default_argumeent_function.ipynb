{
  "cells": [
    {
      "cell_type": "code",
      "source": [
        "def greet(name=\"Guest\"):\n",
        "    print(f\"Hello, {name}!\")\n",
        "\n",
        "print(\"vinayaksb\")\n",
        "name = input(\"Enter your name (or leave blank): \")\n",
        "if name.strip():\n",
        "    greet(name)\n",
        "else:\n",
        "    greet()\n"
      ],
      "metadata": {
        "colab": {
          "base_uri": "https://localhost:8080/"
        },
        "id": "JPhsY8okl8SC",
        "outputId": "46ca1af2-69c1-42e8-fbad-18f58d22ec8a"
      },
      "execution_count": 5,
      "outputs": [
        {
          "output_type": "stream",
          "name": "stdout",
          "text": [
            "vinayaksb\n",
            "Enter your name (or leave blank): \n",
            "Hello, Guest!\n"
          ]
        }
      ]
    }
  ],
  "metadata": {
    "colab": {
      "provenance": []
    },
    "kernelspec": {
      "display_name": "Python 3",
      "name": "python3"
    }
  },
  "nbformat": 4,
  "nbformat_minor": 0
}