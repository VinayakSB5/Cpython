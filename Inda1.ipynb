{
  "nbformat": 4,
  "nbformat_minor": 0,
  "metadata": {
    "colab": {
      "provenance": []
    },
    "kernelspec": {
      "name": "python3",
      "display_name": "Python 3"
    },
    "language_info": {
      "name": "python"
    }
  },
  "cells": [
    {
      "cell_type": "code",
      "execution_count": null,
      "metadata": {
        "id": "V3gNdDpUakEk"
      },
      "outputs": [],
      "source": [
        "# Indentation  in Python\n",
        "\n",
        "def greet(name):\n",
        "    if name:\n",
        "        print(\"Hello, \" + name + \"!\")\n",
        "    else:\n",
        "        print(\"Hello, Stranger!\")\n",
        "\n",
        "greet(\"Alice\")\n",
        "greet(\"\")\n",
        "\n"
      ]
    }
  ]
}