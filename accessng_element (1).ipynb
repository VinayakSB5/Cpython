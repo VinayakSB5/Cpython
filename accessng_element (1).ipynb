{
  "cells": [
    {
      "cell_type": "code",
      "source": [
        "# vinayaksb\n",
        "\n",
        "# 1. Creating a List\n",
        "my_list = [1, 2, 3, 4, 5]\n",
        "print(my_list, \"       vinayaksb\")\n",
        "\n",
        "# 2. Accessing Elements\n",
        "print(\"First element:\", my_list[0], \"       vinayaksb\")\n",
        "print(\"Last element:\", my_list[-1], \"       vinayaksb\")\n",
        "\n",
        "# 3. Adding Elements\n",
        "my_list.append(6)\n",
        "print(\"After append:\", my_list, \"       vinayaksb\")\n",
        "\n",
        "my_list.insert(2, 10)\n",
        "print(\"After insert at index 2:\", my_list, \"       vinayaksb\")\n",
        "\n",
        "my_list.extend([7, 8, 9])\n",
        "print(\"After extend:\", my_list, \"       vinayaksb\")\n",
        "\n",
        "# 4. Removing Elements\n",
        "my_list.remove(3)\n",
        "print(\"After remove:\", my_list, \"       vinayaksb\")\n",
        "\n",
        "popped = my_list.pop(2)\n",
        "print(\"Popped element:\", popped, \"       vinayaksb\")\n",
        "print(\"After pop:\", my_list, \"       vinayaksb\")\n",
        "\n",
        "my_list.clear()\n",
        "print(\"After clear:\", my_list, \"       vinayaksb\")\n",
        "\n",
        "# Reset list for further operations\n",
        "my_list = [1, 2, 3, 4, 5]\n",
        "\n",
        "# 5. Updating Elements\n",
        "my_list[1] = 20\n",
        "print(\"After updating index 1:\", my_list, \"       vinayaksb\")\n",
        "\n",
        "# 6. Searching\n",
        "index = my_list.index(4)\n",
        "print(\"Index of element 4:\", index, \"       vinayaksb\")\n",
        "\n",
        "count = my_list.count(4)\n",
        "print(\"Count of element 4:\", count, \"       vinayaksb\")\n",
        "\n",
        "# 7. Sorting and Reversing\n",
        "my_list.append(3)\n",
        "my_list.sort()\n",
        "print(\"After sorting:\", my_list, \"       vinayaksb\")\n",
        "\n",
        "my_list.reverse()\n",
        "print(\"After reversing:\", my_list, \"       vinayaksb\")\n",
        "\n",
        "# 8. Copying a List\n",
        "new_list = my_list.copy()\n",
        "print(\"Copied List:\", new_list, \"       vinayaksb\")\n",
        "\n",
        "# 9. List Comprehension\n",
        "squares = [x**2 for x in range(5)]\n",
        "print(\"List comprehension (squares):\", squares, \"       vinayaksb\")\n",
        "\n",
        "# 10. Length of List\n",
        "length = len(my_list)\n",
        "print(\"Length of the list:\", length, \"       vinayaksb\")\n"
      ],
      "metadata": {
        "colab": {
          "base_uri": "https://localhost:8080/"
        },
        "id": "TBPI9fV37nty",
        "outputId": "77048a90-a26d-491b-e00c-8b690e2abfd3"
      },
      "execution_count": 2,
      "outputs": [
        {
          "output_type": "stream",
          "name": "stdout",
          "text": [
            "[1, 2, 3, 4, 5]        vinayaksb\n",
            "First element: 1        vinayaksb\n",
            "Last element: 5        vinayaksb\n",
            "After append: [1, 2, 3, 4, 5, 6]        vinayaksb\n",
            "After insert at index 2: [1, 2, 10, 3, 4, 5, 6]        vinayaksb\n",
            "After extend: [1, 2, 10, 3, 4, 5, 6, 7, 8, 9]        vinayaksb\n",
            "After remove: [1, 2, 10, 4, 5, 6, 7, 8, 9]        vinayaksb\n",
            "Popped element: 10        vinayaksb\n",
            "After pop: [1, 2, 4, 5, 6, 7, 8, 9]        vinayaksb\n",
            "After clear: []        vinayaksb\n",
            "After updating index 1: [1, 20, 3, 4, 5]        vinayaksb\n",
            "Index of element 4: 3        vinayaksb\n",
            "Count of element 4: 1        vinayaksb\n",
            "After sorting: [1, 3, 3, 4, 5, 20]        vinayaksb\n",
            "After reversing: [20, 5, 4, 3, 3, 1]        vinayaksb\n",
            "Copied List: [20, 5, 4, 3, 3, 1]        vinayaksb\n",
            "List comprehension (squares): [0, 1, 4, 9, 16]        vinayaksb\n",
            "Length of the list: 6        vinayaksb\n"
          ]
        }
      ]
    }
  ],
  "metadata": {
    "colab": {
      "provenance": []
    },
    "kernelspec": {
      "display_name": "Python 3",
      "name": "python3"
    }
  },
  "nbformat": 4,
  "nbformat_minor": 0
}