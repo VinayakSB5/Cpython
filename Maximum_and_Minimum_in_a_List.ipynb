{
  "cells": [
    {
      "cell_type": "code",
      "source": [
        "# Vinayaksb\n",
        "numbers = [10, 20, 5, 40, 15]\n",
        "print(\"Max:\", max(numbers))\n",
        "print(\"Min:\", min(numbers))\n",
        "\n",
        "\n"
      ],
      "metadata": {
        "colab": {
          "base_uri": "https://localhost:8080/"
        },
        "id": "kjcDv77KtNgy",
        "outputId": "f3224129-ffc3-4146-ae1d-77201fcae49a"
      },
      "execution_count": 9,
      "outputs": [
        {
          "output_type": "stream",
          "name": "stdout",
          "text": [
            "Max: 40\n",
            "Min: 5\n"
          ]
        }
      ]
    }
  ],
  "metadata": {
    "colab": {
      "provenance": [],
      "gpuType": "T4"
    },
    "kernelspec": {
      "display_name": "Python 3",
      "name": "python3"
    },
    "accelerator": "GPU"
  },
  "nbformat": 4,
  "nbformat_minor": 0
}