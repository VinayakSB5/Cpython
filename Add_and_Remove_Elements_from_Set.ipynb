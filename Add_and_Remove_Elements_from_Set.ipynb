{
  "cells": [
    {
      "cell_type": "code",
      "source": [
        "# Vinayaksb\n",
        "data = {1, 2, 3}\n",
        "data.add(4)     # Add element\n",
        "data.remove(2)  # Remove element\n",
        "print(\"Updated Set:\", data)\n"
      ],
      "metadata": {
        "colab": {
          "base_uri": "https://localhost:8080/"
        },
        "id": "30sX0SHdyfNT",
        "outputId": "923ad4e3-5fae-462e-e66e-fbf1b256288b"
      },
      "execution_count": 26,
      "outputs": [
        {
          "output_type": "stream",
          "name": "stdout",
          "text": [
            "Updated Set: {1, 3, 4}\n"
          ]
        }
      ]
    }
  ],
  "metadata": {
    "colab": {
      "provenance": [],
      "gpuType": "T4"
    },
    "kernelspec": {
      "display_name": "Python 3",
      "name": "python3"
    },
    "accelerator": "GPU"
  },
  "nbformat": 4,
  "nbformat_minor": 0
}