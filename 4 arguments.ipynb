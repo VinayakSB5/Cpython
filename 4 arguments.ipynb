{
  "cells": [
    {
      "cell_type": "markdown",
      "metadata": {
        "id": "view-in-github",
        "colab_type": "text"
      },
      "source": [
        "<a href=\"https://colab.research.google.com/github/VinayakSB5/Cpython/blob/main/4%20arguments.ipynb\" target=\"_parent\"><img src=\"https://colab.research.google.com/assets/colab-badge.svg\" alt=\"Open In Colab\"/></a>"
      ]
    },
    {
      "cell_type": "code",
      "source": [
        "# 1. Positional Arguments\n",
        "def generate_report(product, sales):\n",
        "    print(f\"Report for {product}: Total Sales = ${sales}\")\n",
        "\n",
        "generate_report(\"Product A\", 5000)\n",
        "# Keyword Arguments\n",
        "def generate_report(product, sales, region, sales_rep):\n",
        "    print(f\"Report for {product} in {region}:\")\n",
        "    print(f\"Sales Rep: {sales_rep}\")\n",
        "    print(f\"Total Sales = ${sales}\")\n",
        "\n",
        "generate_report(product=\"Product A\", sales=5000, region=\"North America\", sales_rep=\"John Doe\")\n",
        "\n",
        "# 3. Default Arguments\n",
        "def generate_report(product, sales, region=\"Unknown\"):\n",
        "    print(f\"Report for {product} in {region}:\")\n",
        "    print(f\"Total Sales = ${sales}\")\n",
        "\n",
        "generate_report(\"Product A\", 5000)\n",
        "\n",
        "# 4. Variable-Length Arguments (*args)\n",
        "def generate_report(*products):\n",
        "    print(\"Generating report for the following products:\")\n",
        "    for product in products:\n",
        "        print(f\"- {product}\")\n",
        "\n",
        "generate_report(\"Product A\", \"Product B\", \"Product C\")\n",
        "\n",
        "# 5. Keyword Variable-Length Arguments (**kwargs)\n",
        "def generate_report(product, **details):\n",
        "    print(f\"Report for {product}:\")\n",
        "    for key, value in details.items():\n",
        "        print(f\"{key.capitalize()}: {value}\")\n",
        "\n",
        "generate_report(\"Product A\", sales=5000, profit=1200, margin=\"24%\", year=2025)"
      ],
      "metadata": {
        "colab": {
          "base_uri": "https://localhost:8080/"
        },
        "id": "LQKdcVb9kiV0",
        "outputId": "efad0552-6e2a-4be0-bec4-23ce25b6a435"
      },
      "execution_count": 2,
      "outputs": [
        {
          "output_type": "stream",
          "name": "stdout",
          "text": [
            "Report for Product A: Total Sales = $5000\n",
            "Report for Product A in North America:\n",
            "Sales Rep: John Doe\n",
            "Total Sales = $5000\n",
            "Report for Product A in Unknown:\n",
            "Total Sales = $5000\n",
            "Generating report for the following products:\n",
            "- Product A\n",
            "- Product B\n",
            "- Product C\n",
            "Report for Product A:\n",
            "Sales: 5000\n",
            "Profit: 1200\n",
            "Margin: 24%\n",
            "Year: 2025\n"
          ]
        }
      ]
    }
  ],
  "metadata": {
    "colab": {
      "provenance": [],
      "include_colab_link": true
    },
    "kernelspec": {
      "display_name": "Python 3",
      "name": "python3"
    }
  },
  "nbformat": 4,
  "nbformat_minor": 0
}