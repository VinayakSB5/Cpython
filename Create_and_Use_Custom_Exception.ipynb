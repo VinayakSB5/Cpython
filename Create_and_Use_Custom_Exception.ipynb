{
  "cells": [
    {
      "cell_type": "code",
      "source": [
        "\n",
        "class CustomError(Exception):\n",
        "    pass\n",
        "\n",
        "try:\n",
        "    value = int(input(\"Vinayak, enter a value greater than 10: \"))\n",
        "    if value <= 10:\n",
        "        raise CustomError(\"Value must be greater than 10\")\n",
        "except CustomError as e:\n",
        "    print(f\"Vinayak, Error: {e}\")\n"
      ],
      "metadata": {
        "id": "PAXX1dAQj9JR"
      },
      "execution_count": null,
      "outputs": []
    }
  ],
  "metadata": {
    "colab": {
      "provenance": []
    },
    "kernelspec": {
      "display_name": "Python 3",
      "name": "python3"
    }
  },
  "nbformat": 4,
  "nbformat_minor": 0
}