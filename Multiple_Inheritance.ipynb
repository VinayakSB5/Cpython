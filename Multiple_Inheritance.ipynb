{
  "cells": [
    {
      "cell_type": "code",
      "source": [
        "class TV:\n",
        "    def display(self):\n",
        "        print(\"TV is displaying\")\n",
        "\n",
        "class Remote:\n",
        "    def control(self):\n",
        "        print(\"Remote is controlling\")\n",
        "\n",
        "class SmartTV(TV, Remote):\n",
        "    def smart_feature(self):\n",
        "        print(\"Smart TV has smart features, Created by Vinayak\")\n",
        "\n",
        "smart_tv = SmartTV()\n",
        "smart_tv.display()\n",
        "smart_tv.control()\n",
        "smart_tv.smart_feature()\n"
      ],
      "metadata": {
        "colab": {
          "base_uri": "https://localhost:8080/"
        },
        "id": "6ZDOEy_aEnH3",
        "outputId": "39fff945-0345-4eba-d199-4c59a17d0948"
      },
      "execution_count": 12,
      "outputs": [
        {
          "output_type": "stream",
          "name": "stdout",
          "text": [
            "TV is displaying\n",
            "Remote is controlling\n",
            "Smart TV has smart features, Created by Vinayak\n"
          ]
        }
      ]
    }
  ],
  "metadata": {
    "colab": {
      "provenance": []
    },
    "kernelspec": {
      "display_name": "Python 3",
      "name": "python3"
    }
  },
  "nbformat": 4,
  "nbformat_minor": 0
}