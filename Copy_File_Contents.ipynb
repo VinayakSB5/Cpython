{
  "cells": [
    {
      "cell_type": "code",
      "source": [
        "\n",
        "with open(\"sample.txt\", \"r\") as source, open(\"copy.txt\", \"w\") as target:\n",
        "    target.write(source.read())\n",
        "print(\"Vinayak, file copied\")\n",
        "print(\"Vinayak, file copied\")"
      ],
      "metadata": {
        "colab": {
          "base_uri": "https://localhost:8080/"
        },
        "collapsed": true,
        "outputId": "ef5a2c3a-f15a-4837-aadd-238e545b6135",
        "id": "Y5Tms3kiiB45"
      },
      "execution_count": 31,
      "outputs": [
        {
          "output_type": "stream",
          "name": "stdout",
          "text": [
            "Vinayak, file copied\n",
            "Vinayak, file copied\n"
          ]
        }
      ]
    }
  ],
  "metadata": {
    "colab": {
      "provenance": []
    },
    "kernelspec": {
      "display_name": "Python 3",
      "name": "python3"
    }
  },
  "nbformat": 4,
  "nbformat_minor": 0
}