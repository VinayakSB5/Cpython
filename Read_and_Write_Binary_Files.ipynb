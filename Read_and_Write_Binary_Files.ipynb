{
  "cells": [
    {
      "cell_type": "code",
      "source": [
        "\n",
        "data = b\"Vinayak's binary data\"\n",
        "with open(\"data.bin\", \"wb\") as file:\n",
        "    file.write(data)\n",
        "\n",
        "with open(\"data.bin\", \"rb\") as file:\n",
        "    content = file.read()\n",
        "    print(f\"Vinayak, binary data: {content}\")"
      ],
      "metadata": {
        "colab": {
          "base_uri": "https://localhost:8080/"
        },
        "id": "Do2bMCiZfuxR",
        "outputId": "642be70d-12ed-403d-fa80-9c57408a577d"
      },
      "execution_count": 12,
      "outputs": [
        {
          "output_type": "stream",
          "name": "stdout",
          "text": [
            "Vinayak, binary data: b\"Vinayak's binary data\"\n"
          ]
        }
      ]
    },
    {
      "cell_type": "markdown",
      "source": [
        "the file is update with thor example\n"
      ],
      "metadata": {
        "id": "60OVDjJ-Lnhg"
      }
    }
  ],
  "metadata": {
    "colab": {
      "provenance": []
    },
    "kernelspec": {
      "display_name": "Python 3",
      "name": "python3"
    }
  },
  "nbformat": 4,
  "nbformat_minor": 0
}