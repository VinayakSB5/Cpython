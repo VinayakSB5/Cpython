{
  "cells": [
    {
      "cell_type": "code",
      "source": [
        "# Vinayaksb\n",
        "numbers = [1, 2, 3, 4, 5]\n",
        "numbers.remove(3)  # Remove value 3\n",
        "numbers.pop(1)     # Remove element at index 1\n",
        "print(\"Updated List:\", numbers)\n"
      ],
      "metadata": {
        "colab": {
          "base_uri": "https://localhost:8080/"
        },
        "id": "kjcDv77KtNgy",
        "outputId": "e4243450-f25c-4cc2-ee25-ecf5760dd634"
      },
      "execution_count": 5,
      "outputs": [
        {
          "output_type": "stream",
          "name": "stdout",
          "text": [
            "Updated List: [1, 4, 5]\n"
          ]
        }
      ]
    }
  ],
  "metadata": {
    "colab": {
      "provenance": [],
      "gpuType": "T4"
    },
    "kernelspec": {
      "display_name": "Python 3",
      "name": "python3"
    },
    "accelerator": "GPU"
  },
  "nbformat": 4,
  "nbformat_minor": 0
}