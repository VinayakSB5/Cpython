{
  "cells": [
    {
      "cell_type": "code",
      "source": [
        "\n",
        "# Vinayaksb\n",
        "data = {'a': 1, 'b': 2, 'c': 3}\n",
        "for key, value in data.items():\n",
        "    print(key, \":\", value)\n",
        "\n",
        "\n"
      ],
      "metadata": {
        "colab": {
          "base_uri": "https://localhost:8080/"
        },
        "id": "30sX0SHdyfNT",
        "outputId": "dd4e8162-09fe-4167-b460-610c77caca88"
      },
      "execution_count": 22,
      "outputs": [
        {
          "output_type": "stream",
          "name": "stdout",
          "text": [
            "a : 1\n",
            "b : 2\n",
            "c : 3\n"
          ]
        }
      ]
    }
  ],
  "metadata": {
    "colab": {
      "provenance": [],
      "gpuType": "T4"
    },
    "kernelspec": {
      "display_name": "Python 3",
      "name": "python3"
    },
    "accelerator": "GPU"
  },
  "nbformat": 4,
  "nbformat_minor": 0
}