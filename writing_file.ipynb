{
  "cells": [
    {
      "cell_type": "code",
      "source": [
        "vsb = open(\"/content/sample.txt\",'w')\n",
        "get = vsb.write(\"sks\")\n",
        "print(get)\n",
        "vsb.close()"
      ],
      "metadata": {
        "colab": {
          "base_uri": "https://localhost:8080/"
        },
        "id": "ox0eVFIRJGWp",
        "outputId": "98d25168-88db-4a60-9891-eb445696341b"
      },
      "execution_count": 4,
      "outputs": [
        {
          "output_type": "stream",
          "name": "stdout",
          "text": [
            "3\n"
          ]
        }
      ]
    },
    {
      "cell_type": "markdown",
      "source": [
        "file is over writed by default\n"
      ],
      "metadata": {
        "id": "Mm0e7lXFJxoB"
      }
    }
  ],
  "metadata": {
    "colab": {
      "provenance": []
    },
    "kernelspec": {
      "display_name": "Python 3",
      "name": "python3"
    }
  },
  "nbformat": 4,
  "nbformat_minor": 0
}