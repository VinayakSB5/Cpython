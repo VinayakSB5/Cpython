{
  "cells": [
    {
      "cell_type": "code",
      "source": [
        "n = int(input(\"Enter a number: \"))\n",
        "sum_of_squares = sum(i**2 for i in range(1, n + 1))\n",
        "print(\"Sum of squares:\", sum_of_squares)\n"
      ],
      "metadata": {
        "id": "P19bFvrzwh6x",
        "colab": {
          "base_uri": "https://localhost:8080/"
        },
        "outputId": "0e03b319-0dd8-49e2-eabc-dce131639910"
      },
      "execution_count": 1,
      "outputs": [
        {
          "output_type": "stream",
          "name": "stdout",
          "text": [
            "Enter first number: 5\n",
            "Enter second number: 6\n",
            "GCD is: 1\n"
          ]
        }
      ]
    },
    {
      "cell_type": "markdown",
      "source": [],
      "metadata": {
        "id": "isALzUQfbDax"
      }
    },
    {
      "cell_type": "code",
      "source": [],
      "metadata": {
        "id": "3GW137yTwswb"
      },
      "execution_count": null,
      "outputs": []
    }
  ],
  "metadata": {
    "colab": {
      "provenance": []
    },
    "kernelspec": {
      "display_name": "Python 3",
      "name": "python3"
    }
  },
  "nbformat": 4,
  "nbformat_minor": 0
}