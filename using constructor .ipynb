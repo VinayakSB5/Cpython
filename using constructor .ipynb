{
  "cells": [
    {
      "cell_type": "code",
      "source": [
        "# vinayaksb\n",
        "\n",
        "# 1. Creating a Set\n",
        "my_set = {1, 2, 3, 4, 5}\n",
        "print(my_set, \"       vinayaksb\")\n",
        "\n",
        "# 2. Adding Elements\n",
        "my_set.add(6)\n",
        "print(my_set, \"       vinayaksb\")\n",
        "\n",
        "# 3. Removing Elements\n",
        "my_set.remove(3)\n",
        "print(my_set, \"       vinayaksb\")\n",
        "\n",
        "my_set.discard(10)\n",
        "print(my_set, \"       vinayaksb\")\n",
        "\n",
        "popped = my_set.pop()\n",
        "print(\"Popped element:\", popped, \"       vinayaksb\")\n",
        "print(my_set, \"       vinayaksb\")\n",
        "\n",
        "# 4. Union of Sets\n",
        "set2 = {4, 5, 6, 7}\n",
        "union_set = my_set.union(set2)\n",
        "print(union_set, \"       vinayaksb\")\n",
        "\n",
        "# 5. Intersection of Sets\n",
        "intersection_set = my_set.intersection(set2)\n",
        "print(intersection_set, \"       vinayaksb\")\n",
        "\n",
        "\n",
        "\n"
      ],
      "metadata": {
        "colab": {
          "base_uri": "https://localhost:8080/"
        },
        "id": "7cVP-G_G8zWL",
        "outputId": "1b0c02ad-8786-48ef-854d-9966bf30509a"
      },
      "execution_count": 6,
      "outputs": [
        {
          "output_type": "stream",
          "name": "stdout",
          "text": [
            "{1, 2, 3, 4, 5}        vinayaksb\n",
            "{1, 2, 3, 4, 5, 6}        vinayaksb\n",
            "{1, 2, 4, 5, 6}        vinayaksb\n",
            "{1, 2, 4, 5, 6}        vinayaksb\n",
            "Popped element: 1        vinayaksb\n",
            "{2, 4, 5, 6}        vinayaksb\n",
            "{2, 4, 5, 6, 7}        vinayaksb\n",
            "{4, 5, 6}        vinayaksb\n"
          ]
        }
      ]
    },
    {
      "cell_type": "code",
      "source": [
        "# vinayaksb\n",
        "\n",
        "class Person:\n",
        "    def __init__(self, name, age):\n",
        "        self.name = name\n",
        "        self.age = age\n",
        "\n",
        "    def display(self):\n",
        "        print(\"Name:\", self.name, \"       vinayaksb\")\n",
        "        print(\"Age:\", self.age, \"       vinayaksb\")\n",
        "\n",
        "# Creating an object of Person class\n",
        "person1 = Person(\"Vinayak\", 25)\n",
        "person1.display()\n"
      ],
      "metadata": {
        "id": "NVTlNytoV-ZA",
        "outputId": "24cf1b53-f224-472d-8f7c-359aa50b315a",
        "colab": {
          "base_uri": "https://localhost:8080/"
        }
      },
      "execution_count": 1,
      "outputs": [
        {
          "output_type": "stream",
          "name": "stdout",
          "text": [
            "Name: Vinayak        vinayaksb\n",
            "Age: 25        vinayaksb\n"
          ]
        }
      ]
    }
  ],
  "metadata": {
    "colab": {
      "provenance": [],
      "gpuType": "T4"
    },
    "kernelspec": {
      "display_name": "Python 3",
      "name": "python3"
    },
    "accelerator": "GPU"
  },
  "nbformat": 4,
  "nbformat_minor": 0
}
