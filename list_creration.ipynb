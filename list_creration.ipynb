{
  "cells": [
    {
      "cell_type": "code",
      "source": [
        "# Vinayaksb\n",
        "numbers = [1, 2, 3, 4, 5]\n",
        "print(\"List:\", numbers)\n"
      ],
      "metadata": {
        "colab": {
          "base_uri": "https://localhost:8080/"
        },
        "id": "u1RPU7eJqfLk",
        "outputId": "cbf788be-2724-4e2a-eb80-52b2b0d92b4e"
      },
      "execution_count": 2,
      "outputs": [
        {
          "output_type": "stream",
          "name": "stdout",
          "text": [
            "List: [1, 2, 3, 4, 5]\n"
          ]
        }
      ]
    }
  ],
  "metadata": {
    "colab": {
      "provenance": [],
      "gpuType": "T4"
    },
    "kernelspec": {
      "display_name": "Python 3",
      "name": "python3"
    },
    "accelerator": "GPU"
  },
  "nbformat": 4,
  "nbformat_minor": 0
}