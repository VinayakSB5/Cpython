{
  "cells": [
    {
      "cell_type": "code",
      "source": [
        "vsb=open(\"/content/sample.txt\",'r')\n",
        "get =vsb.read()\n",
        "print(get)"
      ],
      "metadata": {
        "colab": {
          "base_uri": "https://localhost:8080/"
        },
        "id": "KsSEg4vgIUK1",
        "outputId": "7120f34f-7965-4ac3-d6e1-699d0f5affa3"
      },
      "execution_count": 2,
      "outputs": [
        {
          "output_type": "stream",
          "name": "stdout",
          "text": [
            "Line 1: This is the first line.\n",
            "Line 2: Learning Python is fun.\n",
            "Line 3: File handling is easy.\n",
            "Line 4: Vinayak is coding.\n",
            "Line 5: Keep practicing.\n",
            "Line 6: Success is near.\n"
          ]
        }
      ]
    },
    {
      "cell_type": "markdown",
      "source": [
        "Line 1: This is the first line.\n",
        "Line 2: Learning Python is fun.\n",
        "Line 3: File handling is easy.    ##file name =sample.text\n",
        "Line 4: Vinayak is coding.\n",
        "Line 5: Keep practicing.\n",
        "Line 6: Success is near."
      ],
      "metadata": {
        "id": "fVsCpd79I2ws"
      }
    }
  ],
  "metadata": {
    "colab": {
      "provenance": []
    },
    "kernelspec": {
      "display_name": "Python 3",
      "name": "python3"
    }
  },
  "nbformat": 4,
  "nbformat_minor": 0
}