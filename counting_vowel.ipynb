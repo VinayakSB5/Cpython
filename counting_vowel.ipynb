{
  "cells": [
    {
      "cell_type": "code",
      "source": [
        "def count_vowels(s):\n",
        "    return sum(1 for char in s.lower() if char in 'aeiou')\n",
        "\n",
        "print(\"vinayaksb\")\n",
        "s = input(\"Enter a string: \")\n",
        "print(\"Vowel Count:\", count_vowels(s))\n"
      ],
      "metadata": {
        "id": "lv9ypKTMlvUG"
      },
      "execution_count": null,
      "outputs": []
    }
  ],
  "metadata": {
    "colab": {
      "provenance": []
    },
    "kernelspec": {
      "display_name": "Python 3",
      "name": "python3"
    }
  },
  "nbformat": 4,
  "nbformat_minor": 0
}